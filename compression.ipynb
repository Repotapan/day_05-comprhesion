{
 "cells": [
  {
   "cell_type": "markdown",
   "id": "b4daef13-360d-47bb-88da-c8bde639571e",
   "metadata": {},
   "source": [
    "#COMPREHESION"
   ]
  },
  {
   "cell_type": "code",
   "execution_count": 3,
   "id": "931be369-8624-4007-8650-04100c1ea2f2",
   "metadata": {},
   "outputs": [
    {
     "data": {
      "text/plain": [
       "[1, 4, 9, 16, 25, 36]"
      ]
     },
     "execution_count": 3,
     "metadata": {},
     "output_type": "execute_result"
    }
   ],
   "source": [
    "l=[1,2,3,4,5,6]\n",
    "l1=[]\n",
    "for i in l:\n",
    "    l1.append(i**2)\n",
    "l1"
   ]
  },
  {
   "cell_type": "code",
   "execution_count": 1,
   "id": "62165a10-b7cc-4112-99d1-2775b2d1bbd0",
   "metadata": {},
   "outputs": [
    {
     "ename": "NameError",
     "evalue": "name 'l' is not defined",
     "output_type": "error",
     "traceback": [
      "\u001b[0;31m---------------------------------------------------------------------------\u001b[0m",
      "\u001b[0;31mNameError\u001b[0m                                 Traceback (most recent call last)",
      "Cell \u001b[0;32mIn[1], line 1\u001b[0m\n\u001b[0;32m----> 1\u001b[0m \u001b[43ml\u001b[49m\n",
      "\u001b[0;31mNameError\u001b[0m: name 'l' is not defined"
     ]
    }
   ],
   "source": [
    "l"
   ]
  },
  {
   "cell_type": "code",
   "execution_count": 2,
   "id": "b2552056-efaf-424b-acdb-04246da03814",
   "metadata": {},
   "outputs": [
    {
     "ename": "NameError",
     "evalue": "name 'l1' is not defined",
     "output_type": "error",
     "traceback": [
      "\u001b[0;31m---------------------------------------------------------------------------\u001b[0m",
      "\u001b[0;31mNameError\u001b[0m                                 Traceback (most recent call last)",
      "Cell \u001b[0;32mIn[2], line 1\u001b[0m\n\u001b[0;32m----> 1\u001b[0m \u001b[43ml1\u001b[49m\n",
      "\u001b[0;31mNameError\u001b[0m: name 'l1' is not defined"
     ]
    }
   ],
   "source": [
    "l1"
   ]
  },
  {
   "cell_type": "code",
   "execution_count": 3,
   "id": "345bb955-330a-4e6a-a746-05516918f125",
   "metadata": {},
   "outputs": [
    {
     "data": {
      "text/plain": [
       "[1, 4, 9, 16, 25, 36]"
      ]
     },
     "execution_count": 3,
     "metadata": {},
     "output_type": "execute_result"
    }
   ],
   "source": [
    "l=[1,2,3,4,5,6]\n",
    "l1=[]\n",
    "for i in l:\n",
    "    l1.append(i**2)\n",
    "l1"
   ]
  },
  {
   "cell_type": "code",
   "execution_count": 4,
   "id": "dfcfcf2b-c651-4ca4-8a88-983cedc6ae73",
   "metadata": {},
   "outputs": [
    {
     "data": {
      "text/plain": [
       "[1, 4, 9, 16, 25, 36]"
      ]
     },
     "execution_count": 4,
     "metadata": {},
     "output_type": "execute_result"
    }
   ],
   "source": [
    "l1"
   ]
  },
  {
   "cell_type": "code",
   "execution_count": 5,
   "id": "e208a854-1588-4a40-b91c-487318b7a2a6",
   "metadata": {},
   "outputs": [
    {
     "data": {
      "text/plain": [
       "[1, 16, 81, 256, 625, 1296]"
      ]
     },
     "execution_count": 5,
     "metadata": {},
     "output_type": "execute_result"
    }
   ],
   "source": [
    "[ i**2 for i in l1]"
   ]
  },
  {
   "cell_type": "code",
   "execution_count": 6,
   "id": "bb15b5cb-e41d-4d65-9faa-1cc85c1f2408",
   "metadata": {},
   "outputs": [],
   "source": [
    "l2=[2,3,45,67,78,90]"
   ]
  },
  {
   "cell_type": "code",
   "execution_count": 7,
   "id": "2a8dded3-4b50-43ed-8c2a-9f66c7c13fa5",
   "metadata": {},
   "outputs": [
    {
     "data": {
      "text/plain": [
       "[4, 9, 2025, 4489, 6084, 8100]"
      ]
     },
     "execution_count": 7,
     "metadata": {},
     "output_type": "execute_result"
    }
   ],
   "source": [
    "[i**2 for i in l2]"
   ]
  },
  {
   "cell_type": "code",
   "execution_count": 10,
   "id": "0a00cded-e913-40ec-96aa-a4386763ddef",
   "metadata": {},
   "outputs": [
    {
     "data": {
      "text/plain": [
       "[2, 78, 90]"
      ]
     },
     "execution_count": 10,
     "metadata": {},
     "output_type": "execute_result"
    }
   ],
   "source": [
    "[ i for i  in l2 if i%2==0]"
   ]
  },
  {
   "cell_type": "code",
   "execution_count": 11,
   "id": "d2e99a5f-df49-4d75-8c72-554d088e33e4",
   "metadata": {},
   "outputs": [],
   "source": [
    "l1={\"sudh\",\"debasish\",\"nihar\",\"bansi\",\"lulu\"}"
   ]
  },
  {
   "cell_type": "code",
   "execution_count": 12,
   "id": "3a22cf82-6bd1-4588-be19-ede4a4560aa2",
   "metadata": {},
   "outputs": [
    {
     "data": {
      "text/plain": [
       "['SUDH', 'NIHAR', 'BANSI', 'DEBASISH', 'LULU']"
      ]
     },
     "execution_count": 12,
     "metadata": {},
     "output_type": "execute_result"
    }
   ],
   "source": [
    "[i.upper()for i in l1]"
   ]
  },
  {
   "cell_type": "code",
   "execution_count": 13,
   "id": "ca40a6e7-2017-4a3d-838e-3a3c809be8d3",
   "metadata": {},
   "outputs": [
    {
     "data": {
      "text/plain": [
       "[2, 3, 45, 67, 78, 90]"
      ]
     },
     "execution_count": 13,
     "metadata": {},
     "output_type": "execute_result"
    }
   ],
   "source": [
    "l2"
   ]
  },
  {
   "cell_type": "code",
   "execution_count": 16,
   "id": "6a72819e-624b-4558-9407-8ab187962718",
   "metadata": {},
   "outputs": [
    {
     "data": {
      "text/plain": [
       "[4, 9, 2025, 4489, 6084, 8100]"
      ]
     },
     "execution_count": 16,
     "metadata": {},
     "output_type": "execute_result"
    }
   ],
   "source": [
    "list(i**2 for i in l2)"
   ]
  },
  {
   "cell_type": "code",
   "execution_count": 17,
   "id": "5a705fde-ce68-4f28-9994-bcb49cefa5e5",
   "metadata": {},
   "outputs": [],
   "source": [
    "d={\"kay1\":1,\"key2\":2,\"key3\":3,\"key4\":4,\"key5\":5}"
   ]
  },
  {
   "cell_type": "code",
   "execution_count": 5,
   "id": "dd66ff49-9b32-4cc1-94e3-a6e554c28d11",
   "metadata": {},
   "outputs": [
    {
     "ename": "NameError",
     "evalue": "name 'd' is not defined",
     "output_type": "error",
     "traceback": [
      "\u001b[0;31m---------------------------------------------------------------------------\u001b[0m",
      "\u001b[0;31mNameError\u001b[0m                                 Traceback (most recent call last)",
      "Cell \u001b[0;32mIn[5], line 1\u001b[0m\n\u001b[0;32m----> 1\u001b[0m {k:v\u001b[38;5;241m*\u001b[39m\u001b[38;5;241m*\u001b[39m\u001b[38;5;241m2\u001b[39m\u001b[38;5;28;01mfor\u001b[39;00m k,v \u001b[38;5;129;01min\u001b[39;00m \u001b[43md\u001b[49m\u001b[38;5;241m.\u001b[39mitems()}\n",
      "\u001b[0;31mNameError\u001b[0m: name 'd' is not defined"
     ]
    }
   ],
   "source": [
    "{k:v**2for k,v in d.items()}"
   ]
  },
  {
   "cell_type": "code",
   "execution_count": 4,
   "id": "3c6deefa-7fd7-41d5-ba33-e160bff7a9cb",
   "metadata": {},
   "outputs": [
    {
     "ename": "NameError",
     "evalue": "name 'd' is not defined",
     "output_type": "error",
     "traceback": [
      "\u001b[0;31m---------------------------------------------------------------------------\u001b[0m",
      "\u001b[0;31mNameError\u001b[0m                                 Traceback (most recent call last)",
      "Cell \u001b[0;32mIn[4], line 1\u001b[0m\n\u001b[0;32m----> 1\u001b[0m {k:v \u001b[38;5;28;01mfor\u001b[39;00m k,v \u001b[38;5;129;01min\u001b[39;00m \u001b[43md\u001b[49m\u001b[38;5;241m.\u001b[39mitems() \u001b[38;5;28;01mif\u001b[39;00m v\u001b[38;5;241m>\u001b[39m\u001b[38;5;241m1\u001b[39m}\n",
      "\u001b[0;31mNameError\u001b[0m: name 'd' is not defined"
     ]
    }
   ],
   "source": [
    "{k:v for k,v in d.items() if v>1}"
   ]
  },
  {
   "cell_type": "code",
   "execution_count": 6,
   "id": "dc39a250-f95b-44a6-8700-8fef4a87c076",
   "metadata": {},
   "outputs": [],
   "source": [
    "d={\"kay1\":1,\"key2\":2,\"key3\":3,\"key4\":4,\"key5\":5}"
   ]
  },
  {
   "cell_type": "code",
   "execution_count": 7,
   "id": "cf3bf0c4-4444-4b2c-9536-cafc37c11cf7",
   "metadata": {},
   "outputs": [
    {
     "data": {
      "text/plain": [
       "{'kay1': 1, 'key2': 2, 'key3': 3, 'key4': 4, 'key5': 5}"
      ]
     },
     "execution_count": 7,
     "metadata": {},
     "output_type": "execute_result"
    }
   ],
   "source": [
    "d"
   ]
  },
  {
   "cell_type": "code",
   "execution_count": 8,
   "id": "b3083817-e585-4b4e-aa66-5f9b48a2ba02",
   "metadata": {},
   "outputs": [
    {
     "data": {
      "text/plain": [
       "{'key2': 2, 'key3': 3, 'key4': 4, 'key5': 5}"
      ]
     },
     "execution_count": 8,
     "metadata": {},
     "output_type": "execute_result"
    }
   ],
   "source": [
    "{ k:v for k,v in d.items()if v>1}"
   ]
  },
  {
   "cell_type": "code",
   "execution_count": 1,
   "id": "02462d7e-4f0a-48a6-a63f-a3b2b8a3c499",
   "metadata": {},
   "outputs": [],
   "source": [
    "l=\"pwskills\"\n"
   ]
  },
  {
   "cell_type": "code",
   "execution_count": 2,
   "id": "0b4f6fc9-1fe1-49f9-8efe-319dbe58923a",
   "metadata": {},
   "outputs": [
    {
     "data": {
      "text/plain": [
       "['p', 'w', 's', 'k', 'i', 'l', 'l', 's']"
      ]
     },
     "execution_count": 2,
     "metadata": {},
     "output_type": "execute_result"
    }
   ],
   "source": [
    "[i for i in l]"
   ]
  },
  {
   "cell_type": "code",
   "execution_count": 3,
   "id": "7bceb0d5-c976-4078-addd-cf172d7877ed",
   "metadata": {},
   "outputs": [
    {
     "data": {
      "text/plain": [
       "[1,\n",
       " 3,\n",
       " 5,\n",
       " 7,\n",
       " 9,\n",
       " 11,\n",
       " 13,\n",
       " 15,\n",
       " 17,\n",
       " 19,\n",
       " 21,\n",
       " 23,\n",
       " 25,\n",
       " 27,\n",
       " 29,\n",
       " 31,\n",
       " 33,\n",
       " 35,\n",
       " 37,\n",
       " 39,\n",
       " 41,\n",
       " 43,\n",
       " 45,\n",
       " 47,\n",
       " 49,\n",
       " 51,\n",
       " 53,\n",
       " 55,\n",
       " 57,\n",
       " 59,\n",
       " 61,\n",
       " 63,\n",
       " 65,\n",
       " 67,\n",
       " 69,\n",
       " 71,\n",
       " 73,\n",
       " 75,\n",
       " 77,\n",
       " 79,\n",
       " 81,\n",
       " 83,\n",
       " 85,\n",
       " 87,\n",
       " 89,\n",
       " 91,\n",
       " 93,\n",
       " 95,\n",
       " 97,\n",
       " 99]"
      ]
     },
     "execution_count": 3,
     "metadata": {},
     "output_type": "execute_result"
    }
   ],
   "source": [
    "l=range(1,101)\n",
    "[i for i in l if i % 2 != 0]"
   ]
  },
  {
   "cell_type": "code",
   "execution_count": null,
   "id": "fdb0edaa-1fec-4438-90c6-6cafeaf3456e",
   "metadata": {},
   "outputs": [],
   "source": []
  }
 ],
 "metadata": {
  "kernelspec": {
   "display_name": "Python 3 (ipykernel)",
   "language": "python",
   "name": "python3"
  },
  "language_info": {
   "codemirror_mode": {
    "name": "ipython",
    "version": 3
   },
   "file_extension": ".py",
   "mimetype": "text/x-python",
   "name": "python",
   "nbconvert_exporter": "python",
   "pygments_lexer": "ipython3",
   "version": "3.10.8"
  }
 },
 "nbformat": 4,
 "nbformat_minor": 5
}
